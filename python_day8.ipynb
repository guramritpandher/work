{
  "nbformat": 4,
  "nbformat_minor": 0,
  "metadata": {
    "colab": {
      "provenance": [],
      "authorship_tag": "ABX9TyPMqnpaH32TYugoclUT9oXn",
      "include_colab_link": true
    },
    "kernelspec": {
      "name": "python3",
      "display_name": "Python 3"
    },
    "language_info": {
      "name": "python"
    }
  },
  "cells": [
    {
      "cell_type": "markdown",
      "metadata": {
        "id": "view-in-github",
        "colab_type": "text"
      },
      "source": [
        "<a href=\"https://colab.research.google.com/github/guramritpandher/work/blob/main/python_day8.ipynb\" target=\"_parent\"><img src=\"https://colab.research.google.com/assets/colab-badge.svg\" alt=\"Open In Colab\"/></a>"
      ]
    },
    {
      "cell_type": "markdown",
      "source": [
        "# **Custom Modules:**"
      ],
      "metadata": {
        "id": "n8spJx3MbuXe"
      }
    },
    {
      "cell_type": "code",
      "execution_count": null,
      "metadata": {
        "id": "74LKq9WYaul1"
      },
      "outputs": [],
      "source": [
        "'''Creating custom modules in Python is simple! A module is just a\n",
        "Python file (.py) that contains functions, classes, or variables\n",
        "that you can import into other scripts.'''\n"
      ]
    },
    {
      "cell_type": "code",
      "source": [
        "#Create a file filename.py with some random lines of code like bwelow:\n",
        "\n",
        "def greet(name):\n",
        "    return f\"Hello, {name}!\"\n",
        "\n",
        "def add(a, b):\n",
        "    return a + b"
      ],
      "metadata": {
        "id": "X8CmClxacClQ"
      },
      "execution_count": 1,
      "outputs": []
    },
    {
      "cell_type": "code",
      "source": [
        "#IMPORT THAT MODULE OR FILE IN ANOTHER FILE OR SCRIPT:\n",
        "\n",
        "import my_module\n",
        "\n",
        "print(my_module.greet(\"Alice\"))\n",
        "print(my_module.add(5, 3))\n"
      ],
      "metadata": {
        "id": "i0DwjlVcfbQp"
      },
      "execution_count": null,
      "outputs": []
    },
    {
      "cell_type": "code",
      "source": [
        "#Instead of importing the whole module we can import specific functions.\n",
        "from my_module import greet, add\n",
        "\n",
        "print(greet(\"Bob\"))\n",
        "print(add(10, 7))"
      ],
      "metadata": {
        "id": "S0oV9ng_f6ZY"
      },
      "execution_count": null,
      "outputs": []
    },
    {
      "cell_type": "markdown",
      "source": [
        "# **PyPi & Pip**"
      ],
      "metadata": {
        "id": "ikButfSWjUlG"
      }
    },
    {
      "cell_type": "code",
      "source": [
        "'''PyPI (Python Package Index) is an online repository of Python\n",
        "packages where you  can upload, share, and install Python libraries.\n",
        "pip (Python Installer Package) is a command-line tool used to\n",
        "install packages from PyPI.'''"
      ],
      "metadata": {
        "id": "fTenFiqJjdaM"
      },
      "execution_count": null,
      "outputs": []
    },
    {
      "cell_type": "code",
      "source": [
        "#To install packages:\n",
        "pip install package_name  #in command line or terminal\n",
        "\n",
        "#For specific version:\n",
        "pip install package_name==versio(12.2)\n",
        "\n",
        "#For upgradation:\n",
        "pip install --upgrade package_name\n",
        "\n",
        "#Installing Multiple Packages (from a requirements file)\n",
        "#Create a file requirements.txt:\n",
        "numpy==1.21.2\n",
        "pandas>=1.3.0\n",
        "matplotlib\n",
        "\n",
        "pip install -r requirements.txt\n",
        "\n",
        "\n",
        "#Checking installed packages List Installed Packages\n",
        "pip list\n",
        "\n",
        "# Check Package Version\n",
        "pip show package_name\n",
        "\n",
        "#Uninstall a Package\n",
        "pip uninstall package_name"
      ],
      "metadata": {
        "id": "1vrQJTcQjypk"
      },
      "execution_count": null,
      "outputs": []
    },
    {
      "cell_type": "code",
      "source": [
        "'''Creating and Uploading Your Own Package to PyPI\n",
        "If you have a custom module and want to share it on PyPI'''"
      ],
      "metadata": {
        "id": "QaKmoSfZltxp"
      },
      "execution_count": null,
      "outputs": []
    },
    {
      "cell_type": "markdown",
      "source": [
        "# **Database**"
      ],
      "metadata": {
        "id": "n_zBapBjrkgh"
      }
    },
    {
      "cell_type": "code",
      "source": [
        "#A database is a file that is organized for storing data.\n",
        "#Uses:\n",
        "'''Storing large amounts of data efficiently.\n",
        "Allowing multiple users to access and modify data at the same time.\n",
        "Ensuring data security and integrity.'''\n",
        "\n",
        "# Types of Databases → SQL (structured) and NoSQL (flexible).\n",
        "# Tables, Rows, Columns → Tables store data in structured form.\n",
        "# Rows represent records (entries).\n",
        "# Columns define data fields.\n",
        "# Primary Key uniquely identifies each row."
      ],
      "metadata": {
        "id": "U6HMxx10roq0"
      },
      "execution_count": null,
      "outputs": []
    },
    {
      "cell_type": "code",
      "source": [],
      "metadata": {
        "id": "QmXRjyZEdMgf"
      },
      "execution_count": null,
      "outputs": []
    }
  ]
}